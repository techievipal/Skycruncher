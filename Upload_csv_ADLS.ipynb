{
 "cells": [
  {
   "cell_type": "code",
   "execution_count": 1,
   "metadata": {},
   "outputs": [],
   "source": [
    "import json\n",
    "import requests\n",
    "import csv\n",
    "import pathlib\n",
    "import pandas as pd\n",
    "from io import StringIO\n",
    "from io import BytesIO"
   ]
  },
  {
   "cell_type": "code",
   "execution_count": null,
   "metadata": {},
   "outputs": [],
   "source": [
    "import os, uuid, sys\n",
    "from azure.storage.filedatalake import DataLakeServiceClient\n",
    "from azure.core._match_conditions import MatchConditions\n",
    "from azure.storage.filedatalake._models import ContentSettings"
   ]
  },
  {
   "cell_type": "code",
   "execution_count": null,
   "metadata": {},
   "outputs": [],
   "source": [
    "def Upload_CSV_File(storage_account_name,storageaccountkey,storagecontainer,cont_directory):\n",
    "    try:\n",
    "        storageaccountconnection = DataLakeServiceClient(account_url=\"{}://{}.dfs.core.windows.net\".format(\"https\", storage_account_name), credential=storageaccountkey)\n",
    "        \n",
    "        #DataframeToCopy=Price_Data_Extraction(url)\n",
    "        DataframeToCopy=pd.read_csv(\"c:/skycruncher/AzureVMPricing.csv\")\n",
    "        ContainerConnection = storageaccountconnection.get_file_system_client(file_system=storagecontainer)\n",
    "        directory_client = ContainerConnection.get_directory_client(cont_directory)\n",
    "        file_client = directory_client.create_file(\"AzureVMPricing.csv\")\n",
    "        \n",
    "        text_stream = StringIO()\n",
    "        DataframeToCopy.to_csv(text_stream)\n",
    "        file_client.upload_data(text_stream.getvalue(),overwrite=True)\n",
    "        file_client.flush_data(len(text_stream.getvalue()))\n",
    "    except Exception as e:\n",
    "      print(e)"
   ]
  }
 ],
 "metadata": {
  "interpreter": {
   "hash": "b3ba2566441a7c06988d0923437866b63cedc61552a5af99d1f4fb67d367b25f"
  },
  "kernelspec": {
   "display_name": "Python 3.9.7 ('base')",
   "language": "python",
   "name": "python3"
  },
  "language_info": {
   "codemirror_mode": {
    "name": "ipython",
    "version": 3
   },
   "file_extension": ".py",
   "mimetype": "text/x-python",
   "name": "python",
   "nbconvert_exporter": "python",
   "pygments_lexer": "ipython3",
   "version": "3.9.7"
  },
  "orig_nbformat": 4
 },
 "nbformat": 4,
 "nbformat_minor": 2
}
