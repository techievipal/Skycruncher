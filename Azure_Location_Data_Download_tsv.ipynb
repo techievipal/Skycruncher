{
 "cells": [
  {
   "cell_type": "code",
   "execution_count": 2,
   "metadata": {},
   "outputs": [],
   "source": [
    "import os"
   ]
  },
  {
   "cell_type": "markdown",
   "metadata": {},
   "source": [
    "Code to download list of locations where microsoft privides the azure services"
   ]
  },
  {
   "cell_type": "code",
   "execution_count": 10,
   "metadata": {},
   "outputs": [],
   "source": [
    "#Specify the destination folder path\n",
    "destinationFolder='c:/skycruncher/'\n",
    "#Specify destination file name\n",
    "destinationFileName='locations.tsv'\n",
    "destinationFilePath=destinationFolder + destinationFileName"
   ]
  },
  {
   "cell_type": "code",
   "execution_count": 11,
   "metadata": {},
   "outputs": [
    {
     "name": "stdout",
     "output_type": "stream",
     "text": [
      "Download success\n"
     ]
    }
   ],
   "source": [
    "#Code to run CLI command to download Location data\n",
    "cliCommand=\"az account list-locations --output tsv>\" + destinationFilePath\n",
    "\n",
    "#ret=os.system(\"az account list-locations --output tsv>c:/skycruncher/locations.tsv\")\n",
    "ret=os.system(cliCommand)\n",
    "if ret==0:\n",
    "    print(\"Download success\")\n",
    "else:\n",
    "    print(\"Download Not Successful\")"
   ]
  }
 ],
 "metadata": {
  "interpreter": {
   "hash": "b3ba2566441a7c06988d0923437866b63cedc61552a5af99d1f4fb67d367b25f"
  },
  "kernelspec": {
   "display_name": "Python 3.9.7 ('base')",
   "language": "python",
   "name": "python3"
  },
  "language_info": {
   "codemirror_mode": {
    "name": "ipython",
    "version": 3
   },
   "file_extension": ".py",
   "mimetype": "text/x-python",
   "name": "python",
   "nbconvert_exporter": "python",
   "pygments_lexer": "ipython3",
   "version": "3.9.7"
  },
  "orig_nbformat": 4
 },
 "nbformat": 4,
 "nbformat_minor": 2
}
